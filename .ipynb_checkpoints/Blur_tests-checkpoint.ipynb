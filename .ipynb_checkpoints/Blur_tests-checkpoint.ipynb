{
 "cells": [
  {
   "cell_type": "code",
   "execution_count": 16,
   "metadata": {},
   "outputs": [],
   "source": [
    "import matplotlib\n",
    "matplotlib.use('Agg')\n",
    "import tensorflow as tf\n",
    "import matplotlib.pyplot as plt\n",
    "from sargan_dep.sargan_models import SARGAN\n",
    "import os\n",
    "from tqdm import tqdm\n",
    "from random import shuffle\n",
    "import skimage.measure as ski_me\n",
    "import time\n",
    "import numpy as np\n",
    "import torch\n",
    "from sargan_dep.cifar_helper import get_data, chunks\n",
    "from sargan_dep.sar_utilities import add_gaussian_noise\n",
    "from sargan_dep.alert_utilities import send_images_via_email\n",
    "\n",
    "from torchvision import transforms, datasets, models\n",
    "from torch.utils.data import DataLoader\n",
    "import torch\n",
    "import torchvision\n",
    "from torchvision.transforms import Compose, ToTensor, Normalize, Resize\n",
    "from scipy.ndimage.filters import gaussian_filter\n",
    "from PIL import Image"
   ]
  },
  {
   "cell_type": "code",
   "execution_count": 7,
   "metadata": {},
   "outputs": [],
   "source": [
    "img_size = (224,224,1)\n",
    "trained_model_path = 'trained_models/sargan_mnist_gaussian_corrupted'\n",
    "BATCH_SIZE = 64\n",
    "NOISE_STD_RANGE = [0.0, 0.4]"
   ]
  },
  {
   "cell_type": "code",
   "execution_count": 36,
   "metadata": {},
   "outputs": [],
   "source": [
    "data_root='sar_data/MNIST'\n",
    "NUM_ITERATION = 85\n",
    "BATCH_SIZE = 64\n",
    "GPU_ID = 1\n",
    "MAX_EPOCH = 55\n",
    "LEARNING_RATE = 0.001\n",
    "NOISE_STD_RANGE = [0.0, 0.4]\n",
    "mnist = datasets.MNIST(root=data_root, train=True, transform=torchvision.transforms.ToTensor(), target_transform=None, download=True).data.float()\n",
    "data_transform = Compose([ToTensor()])\n",
    "    \n",
    "train_loader = DataLoader(datasets.MNIST(root=data_root, train=True, transform=data_transform, target_transform=None, download=True),\n",
    "                              batch_size=BATCH_SIZE, shuffle=True)\n",
    "    \n",
    "    \n",
    "val_loader = DataLoader(datasets.MNIST(root=data_root, train=False, transform=data_transform, target_transform=None, download=True),\n",
    "                            batch_size=BATCH_SIZE, shuffle=False)"
   ]
  },
  {
   "cell_type": "code",
   "execution_count": 37,
   "metadata": {},
   "outputs": [],
   "source": [
    "trainiter = iter(train_loader)\n",
    "features, labels = next(trainiter)\n",
    "features = features.data.numpy().transpose(0,2,3,1)"
   ]
  },
  {
   "cell_type": "code",
   "execution_count": null,
   "metadata": {},
   "outputs": [],
   "source": []
  },
  {
   "cell_type": "code",
   "execution_count": null,
   "metadata": {},
   "outputs": [],
   "source": []
  },
  {
   "cell_type": "code",
   "execution_count": 21,
   "metadata": {},
   "outputs": [
    {
     "name": "stdout",
     "output_type": "stream",
     "text": [
      "torch.Size([28, 28, 1])\n",
      "(28, 224, 224)\n"
     ]
    }
   ],
   "source": [
    "features_copy = features.copy()/2\n",
    "corrupted_batch = np.array([add_gaussian_noise(image, sd=np.random.uniform(NOISE_STD_RANGE[0], NOISE_STD_RANGE[1])) for image in features_copy])\n",
    "corrupted_batch[0]=gaussian_filter(corrupted_batch[0], sigma=1)\n",
    "transform2=Resize([224,224])\n",
    "image=torch.from_numpy(corrupted_batch[0])\n",
    "print(image.shape)\n",
    "outbatch2=np.array(transform2(image))\n",
    "print(outbatch2.shape)\n",
    "\n",
    "from PIL import Image\n",
    "Image.fromarray((corrupted_batch[0,:,:,0])*255).show()\n"
   ]
  },
  {
   "cell_type": "code",
   "execution_count": 9,
   "metadata": {},
   "outputs": [
    {
     "ename": "FileNotFoundError",
     "evalue": "[Errno 2] No such file or directory: 'original_images.NPY'",
     "output_type": "error",
     "traceback": [
      "\u001b[1;31m---------------------------------------------------------------------------\u001b[0m",
      "\u001b[1;31mFileNotFoundError\u001b[0m                         Traceback (most recent call last)",
      "\u001b[1;32m<ipython-input-9-58e1406a6317>\u001b[0m in \u001b[0;36m<module>\u001b[1;34m\u001b[0m\n\u001b[1;32m----> 1\u001b[1;33m \u001b[0mbatch2\u001b[0m\u001b[1;33m=\u001b[0m\u001b[0mnp\u001b[0m\u001b[1;33m.\u001b[0m\u001b[0mload\u001b[0m\u001b[1;33m(\u001b[0m\u001b[1;34m'original_images.NPY'\u001b[0m\u001b[1;33m)\u001b[0m\u001b[1;33m\u001b[0m\u001b[1;33m\u001b[0m\u001b[0m\n\u001b[0m\u001b[0;32m      2\u001b[0m \u001b[1;33m\u001b[0m\u001b[0m\n\u001b[0;32m      3\u001b[0m \u001b[1;33m\u001b[0m\u001b[0m\n\u001b[0;32m      4\u001b[0m \u001b[1;33m\u001b[0m\u001b[0m\n\u001b[0;32m      5\u001b[0m \u001b[1;33m\u001b[0m\u001b[0m\n",
      "\u001b[1;32mC:\\Users\\Hans Walker\\anaconda3\\lib\\site-packages\\numpy\\lib\\npyio.py\u001b[0m in \u001b[0;36mload\u001b[1;34m(file, mmap_mode, allow_pickle, fix_imports, encoding)\u001b[0m\n\u001b[0;32m    414\u001b[0m             \u001b[0mown_fid\u001b[0m \u001b[1;33m=\u001b[0m \u001b[1;32mFalse\u001b[0m\u001b[1;33m\u001b[0m\u001b[1;33m\u001b[0m\u001b[0m\n\u001b[0;32m    415\u001b[0m         \u001b[1;32melse\u001b[0m\u001b[1;33m:\u001b[0m\u001b[1;33m\u001b[0m\u001b[1;33m\u001b[0m\u001b[0m\n\u001b[1;32m--> 416\u001b[1;33m             \u001b[0mfid\u001b[0m \u001b[1;33m=\u001b[0m \u001b[0mstack\u001b[0m\u001b[1;33m.\u001b[0m\u001b[0menter_context\u001b[0m\u001b[1;33m(\u001b[0m\u001b[0mopen\u001b[0m\u001b[1;33m(\u001b[0m\u001b[0mos_fspath\u001b[0m\u001b[1;33m(\u001b[0m\u001b[0mfile\u001b[0m\u001b[1;33m)\u001b[0m\u001b[1;33m,\u001b[0m \u001b[1;34m\"rb\"\u001b[0m\u001b[1;33m)\u001b[0m\u001b[1;33m)\u001b[0m\u001b[1;33m\u001b[0m\u001b[1;33m\u001b[0m\u001b[0m\n\u001b[0m\u001b[0;32m    417\u001b[0m             \u001b[0mown_fid\u001b[0m \u001b[1;33m=\u001b[0m \u001b[1;32mTrue\u001b[0m\u001b[1;33m\u001b[0m\u001b[1;33m\u001b[0m\u001b[0m\n\u001b[0;32m    418\u001b[0m \u001b[1;33m\u001b[0m\u001b[0m\n",
      "\u001b[1;31mFileNotFoundError\u001b[0m: [Errno 2] No such file or directory: 'original_images.NPY'"
     ]
    }
   ],
   "source": [
    "batch2=np.load('original_images.NPY')\n",
    "\n",
    "\n",
    "\n",
    "\n",
    "\n",
    "\n",
    "\n",
    "img_size = (224,224,1)\n",
    "trained_model_path = 'trained_models/sargan_mnist_gaussian_corrupted'\n",
    "BATCH_SIZE = 64\n",
    "NOISE_STD_RANGE = [0.1, .9]\n",
    "    \n",
    "#sargan model\n",
    "#reshaping the images to a square\n",
    "newbatch2=batch.reshape([len(batch2),28,28])\n",
    "#upping the size of the image\n",
    "transform2=Compose([ Resize((224, 224)), Normalize((np.mean(batch2)), (np.std(batch2),))])\n",
    "#creating the original batch\n",
    "transformed_batch2=np.array(transform(torch.from_numpy(newbatch2))).reshape([len(batch2),224,224,1])"
   ]
  },
  {
   "cell_type": "code",
   "execution_count": 7,
   "metadata": {},
   "outputs": [
    {
     "ename": "NameError",
     "evalue": "name 'outbatch' is not defined",
     "output_type": "error",
     "traceback": [
      "\u001b[1;31m---------------------------------------------------------------------------\u001b[0m",
      "\u001b[1;31mNameError\u001b[0m                                 Traceback (most recent call last)",
      "\u001b[1;32m<ipython-input-7-6dc10b14b5a8>\u001b[0m in \u001b[0;36m<module>\u001b[1;34m\u001b[0m\n\u001b[1;32m----> 1\u001b[1;33m \u001b[0mtestbatch\u001b[0m\u001b[1;33m=\u001b[0m\u001b[0moutbatch\u001b[0m\u001b[1;33m\u001b[0m\u001b[1;33m\u001b[0m\u001b[0m\n\u001b[0m\u001b[0;32m      2\u001b[0m \u001b[0mtestbatch\u001b[0m\u001b[1;33m=\u001b[0m\u001b[0mtestbatch\u001b[0m\u001b[1;33m.\u001b[0m\u001b[0mreshape\u001b[0m\u001b[1;33m(\u001b[0m\u001b[1;33m[\u001b[0m\u001b[0mlen\u001b[0m\u001b[1;33m(\u001b[0m\u001b[0mtestbatch\u001b[0m\u001b[1;33m)\u001b[0m\u001b[1;33m,\u001b[0m\u001b[1;36m28\u001b[0m\u001b[1;33m,\u001b[0m\u001b[1;36m28\u001b[0m\u001b[1;33m]\u001b[0m\u001b[1;33m)\u001b[0m\u001b[1;33m\u001b[0m\u001b[1;33m\u001b[0m\u001b[0m\n\u001b[0;32m      3\u001b[0m \u001b[1;31m#upping the size of the image\u001b[0m\u001b[1;33m\u001b[0m\u001b[1;33m\u001b[0m\u001b[1;33m\u001b[0m\u001b[0m\n\u001b[0;32m      4\u001b[0m \u001b[0mtransform\u001b[0m\u001b[1;33m=\u001b[0m\u001b[0mResize\u001b[0m\u001b[1;33m(\u001b[0m\u001b[1;33m[\u001b[0m\u001b[1;36m224\u001b[0m\u001b[1;33m,\u001b[0m\u001b[1;36m224\u001b[0m\u001b[1;33m]\u001b[0m\u001b[1;33m)\u001b[0m\u001b[1;33m\u001b[0m\u001b[1;33m\u001b[0m\u001b[0m\n\u001b[0;32m      5\u001b[0m \u001b[1;31m#creating the original batch\u001b[0m\u001b[1;33m\u001b[0m\u001b[1;33m\u001b[0m\u001b[1;33m\u001b[0m\u001b[0m\n",
      "\u001b[1;31mNameError\u001b[0m: name 'outbatch' is not defined"
     ]
    }
   ],
   "source": [
    "testbatch=outbatch\n",
    "testbatch=testbatch.reshape([len(testbatch),28,28])\n",
    "#upping the size of the image\n",
    "transform=Resize([224,224])\n",
    "#creating the original batch\n",
    "testbatch=np.array(transform(torch.from_numpy(testbatch))).reshape([len(batch),224,224,1])\n",
    "Image.fromarray(transformed_batch2[0,:,:,0]*255).show()\n",
    "#Image.fromarray(corruptedbatch[0,:,:,0]*255).show()\n",
    "Image.fromarray(transformed_batch[0,:,:,0]*255).show()"
   ]
  },
  {
   "cell_type": "code",
   "execution_count": 4,
   "metadata": {},
   "outputs": [
    {
     "name": "stdout",
     "output_type": "stream",
     "text": [
      "<class 'numpy.ndarray'>\n"
     ]
    }
   ],
   "source": [
    "#downgrading the transform\n",
    "outbatch2=outbatch\n",
    "#ncbatch=corruptedbatch\n",
    "print(type(outbatch2))\n",
    "#Image.fromarray(ncbatch[0,:,:,0]*255).show()\n",
    "#Image.fromarray(outbatch2[0]*255).show()\n",
    "transform2=Resize([28,28])\n",
    "Image.fromarray(outbatch2[0]*255).show()\n",
    "outbatch2=np.array(transform2(torch.from_numpy(outbatch2)))\n",
    "outbatch2=outbatch2.reshape([len(batch),784])"
   ]
  },
  {
   "cell_type": "code",
   "execution_count": 19,
   "metadata": {},
   "outputs": [],
   "source": [
    "testbatch=outbatch\n",
    "testbatch=testbatch.reshape([len(testbatch),28,28])\n",
    "#upping the size of the image\n",
    "transform=Resize([224,224])\n",
    "#creating the original batch\n",
    "testbatch=np.array(transform(torch.from_numpy(testbatch))).reshape([len(batch),224,224,1])\n",
    "Image.fromarray(testbatch[10,:,:,0]*-255).show()"
   ]
  },
  {
   "cell_type": "code",
   "execution_count": 22,
   "metadata": {},
   "outputs": [],
   "source": [
    "image=np.ones([200,200])*200\n",
    "Image.fromarray(image).show()"
   ]
  },
  {
   "cell_type": "code",
   "execution_count": 18,
   "metadata": {},
   "outputs": [
    {
     "data": {
      "text/plain": [
       "[<matplotlib.lines.Line2D at 0x23247fec8c8>]"
      ]
     },
     "execution_count": 18,
     "metadata": {},
     "output_type": "execute_result"
    },
    {
     "data": {
      "image/png": "[encoded data removed]",
      "text/plain": [
       "<Figure size 432x288 with 1 Axes>"
      ]
     },
     "metadata": {
      "needs_background": "light"
     },
     "output_type": "display_data"
    }
   ],
   "source": [
    "import numpy as np\n",
    "import matplotlib.pyplot as plt\n",
    "\n",
    "carray=np.load('mnist_loop_list_corr0.npy')\n",
    "barray=np.load('mnist_loop_list0.npy')\n",
    "carray=np.zeros([len(carray),len(carray[0])])\n",
    "barray=carray.copy()\n",
    "listnum=5\n",
    "for i in range(listnum):\n",
    "    carray+=np.load('mnist_loop_list_corr'+str(i)+'.npy')\n",
    "    barray+=np.load('mnist_loop_list'+str(i)+'.npy')\n",
    "carray=carray/listnum\n",
    "barray=barray/listnum\n",
    "fig, ax = plt.subplots()\n",
    "ax.plot(np.arange(start=0,stop=.3,step=.3/len(carray[0])),carray[1])\n",
    "ax.plot(np.arange(start=0,stop=.3,step=.3/len(carray[0])),barray[1])"
   ]
  },
  {
   "cell_type": "code",
   "execution_count": null,
   "metadata": {},
   "outputs": [],
   "source": []
  },
  {
   "cell_type": "raw",
   "metadata": {},
   "source": []
  },
  {
   "cell_type": "code",
   "execution_count": 2,
   "metadata": {},
   "outputs": [],
   "source": []
  },
  {
   "cell_type": "code",
   "execution_count": null,
   "metadata": {},
   "outputs": [],
   "source": []
  }
 ],
 "metadata": {
  "kernelspec": {
   "display_name": "Python 3",
   "language": "python",
   "name": "python3"
  },
  "language_info": {
   "codemirror_mode": {
    "name": "ipython",
    "version": 3
   },
   "file_extension": ".py",
   "mimetype": "text/x-python",
   "name": "python",
   "nbconvert_exporter": "python",
   "pygments_lexer": "ipython3",
   "version": "3.7.9"
  }
 },
 "nbformat": 4,
 "nbformat_minor": 4
}
